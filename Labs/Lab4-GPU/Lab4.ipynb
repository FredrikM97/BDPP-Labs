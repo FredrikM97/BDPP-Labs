{
 "cells": [
  {
   "cell_type": "markdown",
   "metadata": {
    "colab_type": "text",
    "id": "Fkx7ILpx7yBW"
   },
   "source": [
    "# GPU Programming Lab\n",
    "This lab is an introduction of GPU programming with CUDA using python. It consists of 5 exercises plus homework. Write all your observations during the lab exercises and the homework in the report section at the bottom. Be brief and efficient. Send the report to Abdallah Alabdallah <abdallah.alabdallah@hh.se> by Friday, 1 May 2020 at 23:59.\n",
    "\n",
    "# CUDA\n",
    "CUDA is a parallel programming platform and an API that facilitates access to the CUDA-Enabled GPU functionality for general-purpose computing. It allows speeding up the software by utilizing the GPU power for the parallelizable part of the computation. Many Deep Learning platforms like TensorFlow, Keras, PyTorch and others rely on CUDA for their computations.\n",
    "\n",
    "## Common CUDA terminology:\n",
    "- <b>Host:</b> The CPU\n",
    "- <b>Device:</b> The GPU\n",
    "- <b>Host Memory:</b> The system main memory\n",
    "- <b>Device Memory:</b> The GPU onboard memory\n",
    "- <b>kernel:</b> A function that runs on the Device\n",
    "\n",
    "In CUDA threads are organized into a grid of blocks, where each block contains a subset of the threads that can cooperate using a block shared memory and can synchronize within each block.\n",
    "<img src='https://github.com/FredrikM97/BDPP-Labs/blob/master/Labs/Lab4-GPU/files/grid1.png?raw=1' width=\"50%\" height=\"50%\"></img>\n",
    "\n",
    "\n",
    "Parallel portions of an application are executed on the device (GPU) as kernels, where an array of threads executes each kernel. Each thread has an ID, by which it controls the portion of the data to execute the kernel. All threads run the same code on different portions of the data. Grids and blocks can be organized as 1D, 2D, or 3D arrays. \n",
    "\n",
    "<img src='https://github.com/FredrikM97/BDPP-Labs/blob/master/Labs/Lab4-GPU/files/grid2.png?raw=1' width=\"50%\" height=\"50%\"></img>\n"
   ]
  },
  {
   "cell_type": "markdown",
   "metadata": {
    "colab_type": "text",
    "id": "jTEopqZq7yBX"
   },
   "source": [
    "# Numba\n",
    "CUDA is designed to work with C++, but in this Lab, we will work with Numba; a Python JIT compiler that translates subsets of the code into machine code, and enables writing parallel GPU algorithms in Python"
   ]
  },
  {
   "cell_type": "markdown",
   "metadata": {
    "colab_type": "text",
    "id": "ow4FWdCg7yBY"
   },
   "source": [
    "## Numba installation\n",
    "\n",
    "\n",
    "conda install numba\n",
    "\n",
    "pip install numba"
   ]
  },
  {
   "cell_type": "markdown",
   "metadata": {
    "colab_type": "text",
    "id": "QSeNAMJ47yBY"
   },
   "source": [
    "# Kernel \n",
    "- A Kernel is declared as a function with @cuda.jit decorator.\n",
    "- A Kernel function cannot have a return value and manages outputs as input-output arrays"
   ]
  },
  {
   "cell_type": "code",
   "execution_count": null,
   "metadata": {
    "colab": {},
    "colab_type": "code",
    "id": "PkIULqMF7yBZ"
   },
   "outputs": [],
   "source": [
    "from numba import cuda\n",
    "\n",
    "# kernel decleration\n",
    "@cuda.jit\n",
    "def my_kernel(io_array):\n",
    "    # code here\n",
    "    pass\n"
   ]
  },
  {
   "cell_type": "markdown",
   "metadata": {
    "colab_type": "text",
    "id": "uSFq0Wzy7yBc"
   },
   "source": [
    "To invoke a kernel, you have to specify the number of blocks in the grid, and the number of threads per block. This can be done by specifying the number of threads per block and calculating how many blocks are required in the grid based on the size of the data.\n",
    "\n",
    "Note: In the case that the data size is not divisible by the number of thread per block, we take the ceiling of the number to reserve an extra block for the remaining part of the data. So the threads in the last block will not be fully occupied.\n"
   ]
  },
  {
   "cell_type": "code",
   "execution_count": null,
   "metadata": {
    "colab": {},
    "colab_type": "code",
    "id": "GOpanv3O7yBd"
   },
   "outputs": [],
   "source": [
    "import numpy as np\n",
    "import math\n",
    "\n",
    "# kernel invocation\n",
    "data = np.ones(256)\n",
    "\n",
    "threadsperblock = 32\n",
    "blockspergrid = math.ceil(len(data)/threadsperblock)\n",
    "\n",
    "my_kernel[blockspergrid, threadsperblock](data)\n"
   ]
  },
  {
   "cell_type": "markdown",
   "metadata": {
    "colab_type": "text",
    "id": "D6VQOU-K7yBg"
   },
   "source": [
    "# Exercise 1: Element-wise operation\n",
    "\n",
    "The following kernel takes a 1D array as input and computes the element-wise cube-root x^(1/3) for each element in the array. This an example of a simple mathematical operation that is, nevertheless, somewhat costly computationally. If you are interested in delving more in-depth, you can replace it with a more straightforward operation, like multiplication, and see what happens.\n",
    "\n",
    "- pos: holds the position in the data on which the thread will work.\n",
    "- always check that the position does not exceed the length of the data, for the cases when the data length is not devisable by the number of threads per block.\n",
    "\n",
    "<img src='https://github.com/FredrikM97/BDPP-Labs/blob/master/Labs/Lab4-GPU/files/pos1.png?raw=1' width=\"50%\" height=\"50%\"></img>\n",
    "\n",
    "Read the code below and compute the position on which each thread will do its computation in the output array."
   ]
  },
  {
   "cell_type": "code",
   "execution_count": 48,
   "metadata": {
    "colab": {
     "base_uri": "https://localhost:8080/",
     "height": 34
    },
    "colab_type": "code",
    "id": "-mIeeS1Q7yBh",
    "outputId": "0bf5a0ea-ba21-4f01-c328-b8151aaf71f8"
   },
   "outputs": [
    {
     "name": "stdout",
     "output_type": "stream",
     "text": [
      "[1. 1. 1. ... 1. 1. 1.]\n"
     ]
    }
   ],
   "source": [
    "from numba import cuda\n",
    "import numba as nb\n",
    "import numpy\n",
    "import math\n",
    "\n",
    "# kernel decleration\n",
    "@cuda.jit\n",
    "def my_kernel(io_array):\n",
    "    # Thread id in a 1D block\n",
    "    tx = cuda.threadIdx.x\n",
    "    # Block id in a 1D grid\n",
    "    bx = cuda.blockIdx.x\n",
    "    # Block width, i.e. number of threads per block\n",
    "    bw = cuda.blockDim.x\n",
    "    \n",
    "    # Compute flattened index inside the array\n",
    "    #TODO: compute the correct pos value based on the tread index and the block index and the block width\n",
    "    pos = 0\n",
    "    pos = bx*bw+tx\n",
    "    #pos = cuda.grid(1) # this function returns the same value for the position in a 1D grid\n",
    "    if pos < io_array.size:\n",
    "        io_array[pos] = io_array[pos]**(1/3)\n",
    "        \n",
    "\n",
    "# kernel invocation\n",
    "data = numpy.ones(2048)\n",
    "threadsperblock = 256\n",
    "blockspergrid = math.ceil(data.shape[0] / threadsperblock)\n",
    "my_kernel[blockspergrid, threadsperblock](data)\n",
    "print(data)"
   ]
  },
  {
   "cell_type": "markdown",
   "metadata": {
    "colab_type": "text",
    "id": "MQGHn7hj7yBj"
   },
   "source": [
    "### Comparison between this kernel and Numpy\n",
    "Try different array sizes and compare computation time between CPU (using numpy) and GPU.\n",
    "Is there a relation between the size of the array and difference in performance? Explain what you notice."
   ]
  },
  {
   "cell_type": "code",
   "execution_count": 13,
   "metadata": {
    "colab": {
     "base_uri": "https://localhost:8080/",
     "height": 51
    },
    "colab_type": "code",
    "id": "s6RPt6nV7yBk",
    "outputId": "2bb6202c-a415-4e5a-a5df-7451975e9768"
   },
   "outputs": [
    {
     "name": "stdout",
     "output_type": "stream",
     "text": [
      "The slowest run took 10.51 times longer than the fastest. This could mean that an intermediate result is being cached.\n",
      "100000 loops, best of 3: 2.56 µs per loop\n"
     ]
    }
   ],
   "source": [
    "data = numpy.ones(10000000)\n",
    "%timeit np.cbrt(data)\n"
   ]
  },
  {
   "cell_type": "code",
   "execution_count": 14,
   "metadata": {
    "colab": {
     "base_uri": "https://localhost:8080/",
     "height": 34
    },
    "colab_type": "code",
    "id": "PwjN652b7yBn",
    "outputId": "6950154b-ceca-4ffc-8e3a-d8cb4db6f13d"
   },
   "outputs": [
    {
     "name": "stdout",
     "output_type": "stream",
     "text": [
      "1000 loops, best of 3: 769 µs per loop\n"
     ]
    }
   ],
   "source": [
    "data = np.ones(10000000)\n",
    "threadsperblock = 1024\n",
    "blockspergrid = math.ceil(data.shape[0] / threadsperblock)\n",
    "%timeit my_kernel[blockspergrid, threadsperblock](data)\n"
   ]
  },
  {
   "cell_type": "markdown",
   "metadata": {
    "colab_type": "text",
    "id": "-ONuHN8H7yBq"
   },
   "source": [
    "## Exercise 2: Matrix Multiplication\n",
    "\n",
    "In matrix multiplication, every kernel is reponsible for computing one element of the output matrix. It reads one row from the first matrix (A) and one column form the second matrix (B) and computes the dot product of these two vectors and places it in the corresponding cell in the output matrix (C), as shown in the following figure.\n",
    "\n",
    "<img src='https://github.com/FredrikM97/BDPP-Labs/blob/master/Labs/Lab4-GPU/files/matmul.png?raw=1' width=\"50%\" height=\"50%\"></img>\n",
    "\n",
    "Write a kernel to do the multiplication of two matrices."
   ]
  },
  {
   "cell_type": "code",
   "execution_count": null,
   "metadata": {
    "colab": {},
    "colab_type": "code",
    "id": "lGWgAri47yBq"
   },
   "outputs": [],
   "source": [
    "# CUDA kernel\n",
    "@cuda.jit\n",
    "def mat_mul(A, B, C):\n",
    "    \"\"\"Perform matrix multiplication of C = A * B\n",
    "    \"\"\"\n",
    "    \n",
    "    # find the 2D position of the thread in which it will compute the dot product of the corresponding vectors \n",
    "    row, col = cuda.grid(2)\n",
    "    \n",
    "    if row < C.shape[0] and col < C.shape[1]:\n",
    "        #TODO: Compute the dot product \"prod\" of the corresponding vectors of this position \n",
    "        prod = 0\n",
    "        for k in range(A.shape[1]):\n",
    "            prod += A[row, k] * B[k, col]\n",
    "        C[row, col] = prod\n"
   ]
  },
  {
   "cell_type": "markdown",
   "metadata": {
    "colab_type": "text",
    "id": "iBxEPW5s7yBu"
   },
   "source": [
    "## Exercise 3: Create a host function to invoke the kernel\n",
    "\n",
    "It is a good practice to manually copy the matrices to the device (the GPU memory) using \"cuda.to_device\" to reduce the unnecessary data transfer between the device and the host.\n",
    "\n",
    "To test the kernel \"mat_mul\" we prepare the host function \"gpu_dot\" which will take two matrices as parameters and returns the output matrix. The job of this host function is to prepare the data and to invoke the kernel.\n",
    "\n",
    "Read the code below and calculate how many blocks are required to start the kernel. Use the calculated values to invoke the kernel."
   ]
  },
  {
   "cell_type": "code",
   "execution_count": 42,
   "metadata": {
    "colab": {
     "base_uri": "https://localhost:8080/",
     "height": 136
    },
    "colab_type": "code",
    "id": "h5Wc2k3r7yBu",
    "outputId": "814dfeaf-32c7-4eb6-be05-e9eeff871b46"
   },
   "outputs": [
    {
     "data": {
      "text/plain": [
       "array([[6144., 6144., 6144., ..., 6144., 6144., 6144.],\n",
       "       [6144., 6144., 6144., ..., 6144., 6144., 6144.],\n",
       "       [6144., 6144., 6144., ..., 6144., 6144., 6144.],\n",
       "       ...,\n",
       "       [6144., 6144., 6144., ..., 6144., 6144., 6144.],\n",
       "       [6144., 6144., 6144., ..., 6144., 6144., 6144.],\n",
       "       [6144., 6144., 6144., ..., 6144., 6144., 6144.]])"
      ]
     },
     "execution_count": 42,
     "metadata": {
      "tags": []
     },
     "output_type": "execute_result"
    }
   ],
   "source": [
    "# Input Test arrays\n",
    "A = np.full((1024, 512), 3, np.float32) # matrix containing all 3's\n",
    "B = np.full((512, 2048), 4, np.float32) # matrix containing all 4's\n",
    "\n",
    "def gpu_dot(A, B):\n",
    "    #Copy the input matrices to the gpu\n",
    "    A_global_mem = cuda.to_device(A)\n",
    "    B_global_mem = cuda.to_device(B) # this value should be changed \n",
    "\n",
    "    # Allocate memory on the device for the result (Note the shape of the output matrix)\n",
    "    C_global_mem = cuda.device_array((A.shape[0], B.shape[1]), dtype=np.float64) # replace \"None\" with the correct type\n",
    "\n",
    "    # Configure the blocks\n",
    "    # Specify how many threads per block\n",
    "    threadsperblock = (32, 32)\n",
    "    \n",
    "    #TODO: Calculate how many blocks are required\n",
    "    blockspergrid_x = math.ceil(A.shape[0]/threadsperblock[0]) # this value should be changed \n",
    "    blockspergrid_y =  math.ceil(B.shape[1]/threadsperblock[1]) # this value should be changed\n",
    "    blockspergrid = (blockspergrid_x, blockspergrid_y)\n",
    "\n",
    "    #TODO: Start the kernel based on the calculated grid\n",
    "    mat_mul[blockspergrid, threadsperblock](A_global_mem, B_global_mem, C_global_mem)\n",
    "    \n",
    "    # Copy the result back to the host\n",
    "    C = C_global_mem.copy_to_host()\n",
    "    return C\n",
    "\n",
    "\n",
    "#Test the host function\n",
    "gpu_dot(A,B)"
   ]
  },
  {
   "cell_type": "markdown",
   "metadata": {
    "colab_type": "text",
    "id": "IZDoTak17yBw"
   },
   "source": [
    "### Testing the calculations time compared to numpy"
   ]
  },
  {
   "cell_type": "code",
   "execution_count": 43,
   "metadata": {
    "colab": {
     "base_uri": "https://localhost:8080/",
     "height": 34
    },
    "colab_type": "code",
    "id": "iGE6tNUh7yBx",
    "outputId": "97f7d263-f600-496a-e534-6c5c82d5c6a6"
   },
   "outputs": [
    {
     "name": "stdout",
     "output_type": "stream",
     "text": [
      "10 loops, best of 3: 21.4 ms per loop\n"
     ]
    }
   ],
   "source": [
    "%timeit gpu_dot(A,B)"
   ]
  },
  {
   "cell_type": "code",
   "execution_count": 44,
   "metadata": {
    "colab": {
     "base_uri": "https://localhost:8080/",
     "height": 34
    },
    "colab_type": "code",
    "id": "6G1LoWqR7yBz",
    "outputId": "8e16658c-a8ce-41fc-8adc-52eaa469e481"
   },
   "outputs": [
    {
     "name": "stdout",
     "output_type": "stream",
     "text": [
      "10 loops, best of 3: 27.7 ms per loop\n"
     ]
    }
   ],
   "source": [
    "%timeit np.dot(A,B)"
   ]
  },
  {
   "cell_type": "markdown",
   "metadata": {
    "colab_type": "text",
    "id": "qRO6EUpg7yB1"
   },
   "source": [
    "## Exercise 4: Distance Matrix\n",
    "The distance matrix (D) of a data matrix (A) is the matrix that contains the eucleadian distance between each two row vectors as shown in the following figure.\n",
    "<img src='https://github.com/FredrikM97/BDPP-Labs/blob/master/Labs/Lab4-GPU/files/distmat.png?raw=1' width=\"50%\" height=\"50%\"></img>\n",
    "\n",
    "where \n",
    "$$D[i,j]=D[j,i]=dist(A[i,:], A[j,:])$$\n",
    "\n",
    "\n",
    "Use what you have learned in the previous exercises to write a kernel and a host function to compute the distance matrix of a given data matrix."
   ]
  },
  {
   "cell_type": "code",
   "execution_count": 52,
   "metadata": {
    "colab": {
     "base_uri": "https://localhost:8080/",
     "height": 238
    },
    "colab_type": "code",
    "id": "na8EkVJC7yB2",
    "outputId": "60c2bab1-459b-4398-d645-69c964fbcc8a"
   },
   "outputs": [
    {
     "name": "stdout",
     "output_type": "stream",
     "text": [
      "[[   0.         2002.38547125 2124.75705019 ... 2125.89323224\n",
      "  1917.64544375 1947.99866243]\n",
      " [2002.38547125    0.         2083.13335267 ... 2197.89610329\n",
      "  2078.17913804 2105.57446887]\n",
      " [2124.75705019 2083.13335267    0.         ... 2215.08246739\n",
      "  1965.34088316 2023.09916957]\n",
      " ...\n",
      " [2125.89323224 2197.89610329 2215.08246739 ...    0.\n",
      "  2088.12208884 2087.82017226]\n",
      " [1917.64544375 2078.17913804 1965.34088316 ... 2088.12208884\n",
      "     0.         2089.73793962]\n",
      " [1947.99866243 2105.57446887 2023.09916957 ... 2087.82017226\n",
      "  2089.73793962    0.        ]]\n"
     ]
    }
   ],
   "source": [
    "import numpy as np\n",
    "from numba import cuda\n",
    "\n",
    "@cuda.jit(\"void(float64[:, :], float64[:, :])\")\n",
    "def distance_matrix(mat, out):\n",
    "    #TODO: write a kernel to compute the distance matrix of the input \"mat\" and place the result in \"out\"\n",
    "    m = mat.shape[0]\n",
    "    n = mat.shape[1]\n",
    "    i, j = cuda.grid(2)\n",
    "  \n",
    "    if i < m and j < m:\n",
    "      d = 0\n",
    "      for k in range(n):\n",
    "          tmp = mat[i, k] - mat[j, k]\n",
    "          d += tmp * tmp\n",
    "      out[i, j] = d\n",
    "\n",
    "\n",
    "def gpu_dist_matrix(mat):\n",
    "    #TODO: write a host function to calculate the grid size and use the calculated values to invoke the \"distance_Matrix\" kernel\n",
    "\n",
    "    rows = mat.shape[0]\n",
    "    block_dim = (16, 16)\n",
    "    grid_dim = (rows//block_dim[0] + 1, rows//block_dim[1] + 1)\n",
    "\n",
    "    stream = cuda.stream()\n",
    "    mat2 = cuda.to_device(np.asarray(mat, dtype=np.float64), stream=stream)\n",
    "    out2 = cuda.device_array((rows, rows))\n",
    "    distance_matrix[grid_dim, block_dim](mat2, out2)\n",
    "    out = out2.copy_to_host(stream=stream)\n",
    "    return out\n",
    "\n",
    "\n",
    "A = np.random.randn(1024,1024)\n",
    "D = gpu_dist_matrix(A)\n",
    "print(D)"
   ]
  },
  {
   "cell_type": "markdown",
   "metadata": {
    "colab_type": "text",
    "id": "Y7sGRK4V7yB6"
   },
   "source": [
    "# Exercise 5: Convolution\n",
    "\n",
    "Write a convolution kernel and host function that convolves a grayscale image with a filter and compare the performance with the convolution method in scipy \"scipy.ndimage.filters.convolve\".\n",
    "\n",
    "<img src='https://github.com/FredrikM97/BDPP-Labs/blob/master/Labs/Lab4-GPU/files/conv.png?raw=1' width=\"50%\" height=\"50%\"></img>"
   ]
  },
  {
   "cell_type": "code",
   "execution_count": null,
   "metadata": {
    "colab": {},
    "colab_type": "code",
    "id": "iuXCElpB7yB7"
   },
   "outputs": [],
   "source": [
    "def conv_kernel(image, cfilter, out_image):\n",
    "    # TODO: write a kernel to convolve the image with the filter and produce a the filtered image out_image \n",
    "    \n",
    "    \n",
    "def gpu_conv(image, cfilter):\n",
    "    # write a host function to invoke the kernel conv_kernel\n",
    "    return out_image"
   ]
  },
  {
   "cell_type": "markdown",
   "metadata": {
    "colab_type": "text",
    "id": "6bQGVo6V7yB9"
   },
   "source": [
    "## Testing the convolution kernel"
   ]
  },
  {
   "cell_type": "code",
   "execution_count": null,
   "metadata": {
    "colab": {},
    "colab_type": "code",
    "id": "w3y7SW857yB9"
   },
   "outputs": [],
   "source": [
    "import matplotlib.pyplot as plt\n",
    "from PIL import Image\n",
    "import numpy as np\n",
    "\n",
    "#Loading the image and converting it to numpy array\n",
    "im = Image.open(\"files/QCaSg.png\")\n",
    "im_arr = np.array(im.getdata()).reshape(im.size[0], im.size[1])\n",
    "plt.imshow(im_arr, cmap='gray')\n",
    "print(\"Image Shape:\",im_arr.shape)\n",
    "\n",
    "# Creating the filter to use\n",
    "filt = np.array([[-1,-1,-1], [-1,8,-1], [-1,-1,-1]])\n",
    "print(\"Filter:\\n\",filt)\n"
   ]
  },
  {
   "cell_type": "code",
   "execution_count": null,
   "metadata": {
    "colab": {},
    "colab_type": "code",
    "id": "Olp5ydqd7yB_"
   },
   "outputs": [],
   "source": [
    "from scipy.ndimage.filters import convolve\n",
    "\n",
    "# Using scipy convolution\n",
    "filtered_image = convolve(im_arr, filt)\n",
    "\n",
    "plt.imshow(filtered_image, cmap='gray')"
   ]
  },
  {
   "cell_type": "markdown",
   "metadata": {
    "colab_type": "text",
    "id": "NWWEVUbk7yCB"
   },
   "source": [
    "# Homework: Development of a Simple Neural Network\n",
    "\n",
    "The purpose of using GPUs for training in deep learning is its ability to parallelize matrix computation on which deep learning models heavily rely. \n",
    "\n",
    "For the purpose of this Lab, we will use the file NN.py, which contains an MLP class used to create a multi-layer neural network. The class MLP accepts as input the network structure (as a dictionary object), and a matrix multiplication function to use in the computations. By default, the matrix multiplication function it uses is \"numpy.dot\". We can try the function implemented in Example 2 and compare it with NumPy.\n",
    "\n",
    "Read the file NN.py, and implement the missing parts (places marked with TODO keywords). The file is a full implementation of the neural network that consists of feedforward and backpropagation for training the neural networks. The backward calculations involve the computation of the gradients of the loss function with respect to the weights of the network dL/dw. This part is implemented, but you are encouraged to read it carefully to understand how it is calculated.\n",
    "\n",
    "Most of the parts that you are required to calculate are in the feedforward step. Read the comments carefully to be able to know the kind of output that is expected from each method.\n",
    "\n",
    "After completing the code in NN.py file, use the code below to verify that it is working. Use the matrix multiplication function that you have developed earlier and compare it with the use of Numpy multiplication. Explain what you notice.\n",
    "\n",
    "Write a short report in the section below, explaining your observations. Send the report to Abdallah Alabdallah <abdallah.alabdallah@hh.se> by Friday, 1 May 2020 at 23:59.\n"
   ]
  },
  {
   "cell_type": "code",
   "execution_count": 1,
   "metadata": {
    "colab": {},
    "colab_type": "code",
    "id": "lAx8RyNW7yCC"
   },
   "outputs": [
    {
     "ename": "NameError",
     "evalue": "name 'gpu_dot' is not defined",
     "output_type": "error",
     "traceback": [
      "\u001b[1;31m---------------------------------------------------------------------------\u001b[0m",
      "\u001b[1;31mNameError\u001b[0m                                 Traceback (most recent call last)",
      "\u001b[1;32m<ipython-input-1-dcfe91937d53>\u001b[0m in \u001b[0;36m<module>\u001b[1;34m\u001b[0m\n\u001b[0;32m     11\u001b[0m \u001b[1;33m\u001b[0m\u001b[0m\n\u001b[0;32m     12\u001b[0m \u001b[1;31m# matmul holds the function to be used for matrix multiplication, it can be np.dot or gpu_dot\u001b[0m\u001b[1;33m\u001b[0m\u001b[1;33m\u001b[0m\u001b[1;33m\u001b[0m\u001b[0m\n\u001b[1;32m---> 13\u001b[1;33m \u001b[0mmodel\u001b[0m \u001b[1;33m=\u001b[0m \u001b[0mMLP\u001b[0m\u001b[1;33m(\u001b[0m\u001b[0mNN_ARCHITECTURE\u001b[0m\u001b[1;33m,\u001b[0m \u001b[0mmatmul\u001b[0m\u001b[1;33m=\u001b[0m\u001b[0mgpu_dot\u001b[0m\u001b[1;33m)\u001b[0m\u001b[1;33m\u001b[0m\u001b[1;33m\u001b[0m\u001b[0m\n\u001b[0m",
      "\u001b[1;31mNameError\u001b[0m: name 'gpu_dot' is not defined"
     ]
    }
   ],
   "source": [
    "from NN import MLP\n",
    "import numpy as np\n",
    "\n",
    "NN_ARCHITECTURE = [\n",
    "    {\"input_dim\": 2, \"output_dim\": 25, \"activation\": \"relu\"},\n",
    "    {\"input_dim\": 25, \"output_dim\": 50, \"activation\": \"relu\"},\n",
    "    {\"input_dim\": 50, \"output_dim\": 50, \"activation\": \"relu\"},\n",
    "    {\"input_dim\": 50, \"output_dim\": 25, \"activation\": \"relu\"},\n",
    "    {\"input_dim\": 25, \"output_dim\": 1, \"activation\": \"sigmoid\"},\n",
    "]\n",
    "\n",
    "# matmul holds the function to be used for matrix multiplication, it can be np.dot or gpu_dot\n",
    "model = MLP(NN_ARCHITECTURE, matmul=gpu_dot) "
   ]
  },
  {
   "cell_type": "code",
   "execution_count": null,
   "metadata": {
    "colab": {},
    "colab_type": "code",
    "id": "E4VsG5Ai7yCE"
   },
   "outputs": [],
   "source": [
    "import os\n",
    "from sklearn.datasets import make_moons\n",
    "from sklearn.model_selection import train_test_split\n",
    "\n",
    "# number of samples in the data set\n",
    "N_SAMPLES = 1000\n",
    "# ratio between training and test sets\n",
    "TEST_SIZE = 0.1\n",
    "\n",
    "\n",
    "# Create the Data\n",
    "X, y = make_moons(n_samples = N_SAMPLES, noise=0.2, random_state=100)\n",
    "X_train, X_test, y_train, y_test = train_test_split(X, y, test_size=TEST_SIZE, random_state=42)\n",
    "\n",
    "# Training\n",
    "model.train(np.transpose(X_train), np.transpose(y_train.reshape((y_train.shape[0], 1))), 10000, 0.01, verbose=True)\n",
    "# Prediction\n",
    "Y_test_hat = model.predict(np.transpose(X_test))\n",
    "\n",
    "# Accuracy achieved on the test set\n",
    "acc_test = model.get_accuracy_value(Y_test_hat, np.transpose(y_test.reshape((y_test.shape[0], 1))))\n",
    "print(\"Test set accuracy: {:.2f}\".format(acc_test))"
   ]
  },
  {
   "cell_type": "code",
   "execution_count": null,
   "metadata": {
    "colab": {},
    "colab_type": "code",
    "id": "6-lzw5qK7yCH"
   },
   "outputs": [],
   "source": [
    "%timeit gpu_dist_matrix(A)"
   ]
  },
  {
   "cell_type": "code",
   "execution_count": null,
   "metadata": {
    "colab": {},
    "colab_type": "code",
    "id": "LI2pBhFG7yCJ"
   },
   "outputs": [],
   "source": [
    "%timeit gpu_dot(A,A)"
   ]
  },
  {
   "cell_type": "code",
   "execution_count": null,
   "metadata": {
    "colab": {},
    "colab_type": "code",
    "id": "y-NTBfBv7yCL"
   },
   "outputs": [],
   "source": [
    "%timeit np.dot(A,A)"
   ]
  },
  {
   "cell_type": "markdown",
   "metadata": {
    "colab_type": "text",
    "id": "wZ4eDCP17yCN"
   },
   "source": [
    "# Report:\n",
    "Send the report to Abdallah Alabdallah <abdallah.alabdallah@hh.se> by Friday, 1 May 2020 at 23:59.\n",
    "\n",
    "### Name: Fredrik Mårtensson\n",
    "\n",
    "### Exercise 1:\n",
    "Numpy performs better on small sets but the GPU performces a lot more efficient on the bigger sets.\n",
    "### Exercise 2:\n",
    "Applying @ (dot product) seems to be working\n",
    "### Exercise 3:\n",
    "Allocating memory for the GPU based on GPU_DOT and then perform the matrix multiplication through mat_mul gives the following result:\n",
    "array([[6144., 6144., 6144., ..., 6144., 6144., 6144.],\n",
    "       [6144., 6144., 6144., ..., 6144., 6144., 6144.],\n",
    "       [6144., 6144., 6144., ..., 6144., 6144., 6144.],\n",
    "       ...,\n",
    "       [6144., 6144., 6144., ..., 6144., 6144., 6144.],\n",
    "       [6144., 6144., 6144., ..., 6144., 6144., 6144.],\n",
    "       [6144., 6144., 6144., ..., 6144., 6144., 6144.]])\n",
    "\n",
    "### Exercise 4:\n",
    "Calculating the distance matrix (D) for the data matrix (A) that contains the eucleadian distance.\n",
    "It seems to be reasonable that the diagonal is returning zero from the eucleadian distance.\n",
    "\n",
    "\n",
    "### Exercise 5:\n",
    "100 loops, best of 3: 4.72 ms per loop\n",
    "10 loops, best of 3: 30 ms per loop\n",
    "\n",
    "The first example is based on gpu_conv and the second one is from scipy. We can see that the gpu perfomns better than the CPU.\n",
    "\n",
    "[[   0.         2002.38547125 2124.75705019 ... 2125.89323224\n",
    "  1917.64544375 1947.99866243]\n",
    " [2002.38547125    0.         2083.13335267 ... 2197.89610329\n",
    "  2078.17913804 2105.57446887]\n",
    " [2124.75705019 2083.13335267    0.         ... 2215.08246739\n",
    "  1965.34088316 2023.09916957]\n",
    " ...\n",
    " [2125.89323224 2197.89610329 2215.08246739 ...    0.\n",
    "  2088.12208884 2087.82017226]\n",
    " [1917.64544375 2078.17913804 1965.34088316 ... 2088.12208884\n",
    "     0.         2089.73793962]\n",
    " [1947.99866243 2105.57446887 2023.09916957 ... 2087.82017226\n",
    "  2089.73793962    0.        ]]\n",
    "\n",
    "### Exercise 5:\n",
    "\n",
    "### Homework:"
   ]
  },
  {
   "cell_type": "code",
   "execution_count": null,
   "metadata": {
    "colab": {},
    "colab_type": "code",
    "id": "zmGWBQiA7yCO"
   },
   "outputs": [],
   "source": []
  }
 ],
 "metadata": {
  "accelerator": "GPU",
  "colab": {
   "name": "Lab4.ipynb",
   "provenance": [],
   "toc_visible": true
  },
  "kernelspec": {
   "display_name": "Python 3",
   "language": "python",
   "name": "python3"
  },
  "language_info": {
   "codemirror_mode": {
    "name": "ipython",
    "version": 3
   },
   "file_extension": ".py",
   "mimetype": "text/x-python",
   "name": "python",
   "nbconvert_exporter": "python",
   "pygments_lexer": "ipython3",
   "version": "3.7.6"
  }
 },
 "nbformat": 4,
 "nbformat_minor": 4
}
